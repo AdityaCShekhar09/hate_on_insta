{
 "cells": [
  {
   "cell_type": "code",
   "execution_count": 1,
   "metadata": {},
   "outputs": [],
   "source": [
    "import pandas as pd\n",
    "from tensorflow.keras.layers import TextVectorization\n",
    "\n",
    "df = pd.read_csv('comments.csv')\n",
    "X = df['comment_text']\n",
    "\n",
    "MAX_FEATURES = 200000 # number of words in the vocab\n",
    "\n",
    "vectorizer = TextVectorization(max_tokens=MAX_FEATURES,\n",
    "                               output_sequence_length=1800,\n",
    "                               output_mode='int')\n",
    "\n",
    "vectorizer.adapt(X.values)"
   ]
  },
  {
   "cell_type": "code",
   "execution_count": 7,
   "metadata": {},
   "outputs": [
    {
     "name": "stderr",
     "output_type": "stream",
     "text": [
      "WARNING:absl:Compiled the loaded model, but the compiled metrics have yet to be built. `model.compile_metrics` will be empty until you train or evaluate the model.\n"
     ]
    },
    {
     "name": "stdout",
     "output_type": "stream",
     "text": [
      " * Serving Flask app '__main__'\n",
      " * Debug mode: off\n"
     ]
    },
    {
     "name": "stderr",
     "output_type": "stream",
     "text": [
      "INFO:werkzeug:\u001b[31m\u001b[1mWARNING: This is a development server. Do not use it in a production deployment. Use a production WSGI server instead.\u001b[0m\n",
      " * Running on all addresses (0.0.0.0)\n",
      " * Running on http://127.0.0.1:5050\n",
      " * Running on http://192.168.29.96:5050\n",
      "INFO:werkzeug:\u001b[33mPress CTRL+C to quit\u001b[0m\n"
     ]
    }
   ],
   "source": [
    "from flask import Flask, request, jsonify\n",
    "import re\n",
    "from flask_cors import CORS\n",
    "import tensorflow as tf\n",
    "import numpy as np\n",
    "\n",
    "app = Flask(__name__)\n",
    "CORS(app)\n",
    "\n",
    "model = tf.keras.models.load_model('toxicity.h5')\n",
    "\n",
    "def preprocess_text(text):\n",
    "    # Assuming `text` is a list of comments\n",
    "    processed_texts = [re.split(r'(?<!\\w\\.\\w.)(?<![A-Z][a-z]\\.)(?<=\\.|\\?)\\s', sentence) for sentence in text]\n",
    "    # Flatten the list of lists into a single list\n",
    "    return [item for sublist in processed_texts for item in sublist]\n",
    "\n",
    "@app.route('/detect', methods=['POST'])\n",
    "def detect():\n",
    "    data = request.get_json()\n",
    "    comments = data['comments']\n",
    "    \n",
    "    hate_comments = []\n",
    "    \n",
    "    for comment in comments:\n",
    "        sentences = preprocess_text(comment['text'])\n",
    "        preprocessed_sentences = [vectorizer([sentence]) for sentence in sentences]\n",
    "        \n",
    "        # Predict toxicity for all sentences in the comment\n",
    "        predictions = model.predict(np.vstack(preprocessed_sentences))\n",
    "        is_hate_speech = any(prediction[0] > 0.5 for prediction in predictions)  # Adjust based on your model's output shape\n",
    "\n",
    "        if is_hate_speech:\n",
    "            hate_comments.append({\n",
    "                \"username\": comment['ownerUsername'],\n",
    "                \"text\": comment['text']\n",
    "            })\n",
    "\n",
    "    return jsonify(hate_comments)\n",
    "\n",
    "if __name__ == '__main__':\n",
    "    app.run(host='0.0.0.0', port=5050)\n"
   ]
  }
 ],
 "metadata": {
  "kernelspec": {
   "display_name": "Python 3",
   "language": "python",
   "name": "python3"
  },
  "language_info": {
   "codemirror_mode": {
    "name": "ipython",
    "version": 3
   },
   "file_extension": ".py",
   "mimetype": "text/x-python",
   "name": "python",
   "nbconvert_exporter": "python",
   "pygments_lexer": "ipython3",
   "version": "3.12.4"
  }
 },
 "nbformat": 4,
 "nbformat_minor": 2
}
